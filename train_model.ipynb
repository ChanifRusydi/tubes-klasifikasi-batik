{
 "cells": [
  {
   "cell_type": "code",
   "execution_count": 1,
   "metadata": {},
   "outputs": [],
   "source": [
    "import tensorflow as tf\n",
    "import numpy as np\n",
    "import matplotlib.pyplot as plt\n",
    "from keras.preprocessing.image import ImageDataGenerator"
   ]
  },
  {
   "cell_type": "code",
   "execution_count": 2,
   "metadata": {},
   "outputs": [
    {
     "data": {
      "text/plain": [
       "'2.11.0'"
      ]
     },
     "execution_count": 2,
     "metadata": {},
     "output_type": "execute_result"
    }
   ],
   "source": [
    "tf.__version__"
   ]
  },
  {
   "cell_type": "code",
   "execution_count": null,
   "metadata": {},
   "outputs": [],
   "source": [
    "gpus = tf.config.experimental.list_physical_devices('GPU')\n",
    "if gpus:\n",
    "  # Restrict TensorFlow to only use the first GPU\n",
    "  print(gpus[0], gpus[1])\n",
    "  try:\n",
    "    tf.config.experimental.set_visible_devices(gpus[1], 'GPU')\n",
    "  except RuntimeError as e:\n",
    "    # Visible devices must be set at program startup\n",
    "    print(e)"
   ]
  },
  {
   "cell_type": "code",
   "execution_count": 20,
   "metadata": {},
   "outputs": [],
   "source": [
    "train_datagen = ImageDataGenerator(validation_split=0.1)\n",
    "# test_datagen = ImageDataGenerator(rescale=1./255)"
   ]
  },
  {
   "cell_type": "code",
   "execution_count": 28,
   "metadata": {},
   "outputs": [
    {
     "name": "stdout",
     "output_type": "stream",
     "text": [
      "Found 271 images belonging to 4 classes.\n",
      "Found 29 images belonging to 4 classes.\n"
     ]
    }
   ],
   "source": [
    "train_generator = train_datagen.flow_from_directory('./dataset',target_size=(224,224),batch_size=32,class_mode='categorical',subset='training')\n",
    "test_generator = train_datagen.flow_from_directory('./dataset',target_size=(224,224),batch_size=32,class_mode='categorical',subset='validation')"
   ]
  },
  {
   "cell_type": "code",
   "execution_count": 29,
   "metadata": {},
   "outputs": [],
   "source": [
    "resnet_50_model = tf.keras.applications.resnet50.ResNet50(\n",
    "    input_shape=(224,224,3),\n",
    "    include_top=False,\n",
    "    weights='imagenet'\n",
    ")\n",
    "resnet_50_model.trainable = False"
   ]
  },
  {
   "cell_type": "code",
   "execution_count": 30,
   "metadata": {},
   "outputs": [],
   "source": [
    "model = tf.keras.Sequential([\n",
    "    resnet_50_model,\n",
    "    tf.keras.layers.Flatten(),\n",
    "    tf.keras.layers.Dense(128, activation='relu'),\n",
    "    tf.keras.layers.Dense(4, activation='softmax')\n",
    "])"
   ]
  },
  {
   "cell_type": "code",
   "execution_count": 31,
   "metadata": {},
   "outputs": [],
   "source": [
    "model.compile(optimizer=tf.keras.optimizers.Adam(learning_rate=0.0000001), loss='categorical_crossentropy', metrics=['accuracy'])"
   ]
  },
  {
   "cell_type": "code",
   "execution_count": 32,
   "metadata": {},
   "outputs": [
    {
     "name": "stdout",
     "output_type": "stream",
     "text": [
      "Model: \"sequential_3\"\n",
      "_________________________________________________________________\n",
      " Layer (type)                Output Shape              Param #   \n",
      "=================================================================\n",
      " resnet50 (Functional)       (None, 7, 7, 2048)        23587712  \n",
      "                                                                 \n",
      " flatten_3 (Flatten)         (None, 100352)            0         \n",
      "                                                                 \n",
      " dense_6 (Dense)             (None, 128)               12845184  \n",
      "                                                                 \n",
      " dense_7 (Dense)             (None, 4)                 516       \n",
      "                                                                 \n",
      "=================================================================\n",
      "Total params: 36,433,412\n",
      "Trainable params: 12,845,700\n",
      "Non-trainable params: 23,587,712\n",
      "_________________________________________________________________\n"
     ]
    }
   ],
   "source": [
    "model.summary()"
   ]
  },
  {
   "cell_type": "code",
   "execution_count": 33,
   "metadata": {},
   "outputs": [
    {
     "name": "stdout",
     "output_type": "stream",
     "text": [
      "Epoch 1/100\n",
      "9/9 [==============================] - 15s 1s/step - loss: 2.0649 - accuracy: 0.3137 - val_loss: 1.9442 - val_accuracy: 0.3103\n",
      "Epoch 2/100\n",
      "9/9 [==============================] - 13s 2s/step - loss: 2.0307 - accuracy: 0.3210 - val_loss: 1.9333 - val_accuracy: 0.3103\n",
      "Epoch 3/100\n",
      "9/9 [==============================] - 12s 1s/step - loss: 2.0030 - accuracy: 0.3247 - val_loss: 1.9224 - val_accuracy: 0.3103\n",
      "Epoch 4/100\n",
      "9/9 [==============================] - 12s 1s/step - loss: 1.9745 - accuracy: 0.3284 - val_loss: 1.9136 - val_accuracy: 0.3103\n",
      "Epoch 5/100\n",
      "9/9 [==============================] - 12s 1s/step - loss: 1.9488 - accuracy: 0.3284 - val_loss: 1.9030 - val_accuracy: 0.3103\n",
      "Epoch 6/100\n",
      "9/9 [==============================] - 12s 1s/step - loss: 1.9222 - accuracy: 0.3358 - val_loss: 1.8932 - val_accuracy: 0.3103\n",
      "Epoch 7/100\n",
      "9/9 [==============================] - 12s 1s/step - loss: 1.8972 - accuracy: 0.3395 - val_loss: 1.8852 - val_accuracy: 0.3103\n",
      "Epoch 8/100\n",
      "9/9 [==============================] - 12s 1s/step - loss: 1.8712 - accuracy: 0.3469 - val_loss: 1.8785 - val_accuracy: 0.3103\n",
      "Epoch 9/100\n",
      "9/9 [==============================] - 12s 1s/step - loss: 1.8480 - accuracy: 0.3506 - val_loss: 1.8715 - val_accuracy: 0.3103\n",
      "Epoch 10/100\n",
      "9/9 [==============================] - 12s 1s/step - loss: 1.8242 - accuracy: 0.3542 - val_loss: 1.8641 - val_accuracy: 0.3103\n",
      "Epoch 11/100\n",
      "9/9 [==============================] - 12s 1s/step - loss: 1.8005 - accuracy: 0.3579 - val_loss: 1.8587 - val_accuracy: 0.2759\n",
      "Epoch 12/100\n",
      "9/9 [==============================] - 12s 1s/step - loss: 1.7773 - accuracy: 0.3579 - val_loss: 1.8539 - val_accuracy: 0.2759\n",
      "Epoch 13/100\n",
      "9/9 [==============================] - 12s 1s/step - loss: 1.7553 - accuracy: 0.3653 - val_loss: 1.8482 - val_accuracy: 0.2414\n",
      "Epoch 14/100\n",
      "9/9 [==============================] - 12s 1s/step - loss: 1.7334 - accuracy: 0.3690 - val_loss: 1.8434 - val_accuracy: 0.2414\n",
      "Epoch 15/100\n",
      "9/9 [==============================] - 12s 1s/step - loss: 1.7121 - accuracy: 0.3727 - val_loss: 1.8387 - val_accuracy: 0.2414\n",
      "Epoch 16/100\n",
      "9/9 [==============================] - 12s 1s/step - loss: 1.6903 - accuracy: 0.3727 - val_loss: 1.8352 - val_accuracy: 0.2414\n",
      "Epoch 17/100\n",
      "9/9 [==============================] - 12s 1s/step - loss: 1.6692 - accuracy: 0.3764 - val_loss: 1.8316 - val_accuracy: 0.2414\n",
      "Epoch 18/100\n",
      "9/9 [==============================] - 12s 1s/step - loss: 1.6478 - accuracy: 0.3764 - val_loss: 1.8285 - val_accuracy: 0.2414\n",
      "Epoch 19/100\n",
      "9/9 [==============================] - 12s 1s/step - loss: 1.6274 - accuracy: 0.3875 - val_loss: 1.8253 - val_accuracy: 0.2414\n",
      "Epoch 20/100\n",
      "9/9 [==============================] - 12s 1s/step - loss: 1.6075 - accuracy: 0.3948 - val_loss: 1.8230 - val_accuracy: 0.2414\n",
      "Epoch 21/100\n",
      "9/9 [==============================] - 12s 1s/step - loss: 1.5888 - accuracy: 0.3985 - val_loss: 1.8204 - val_accuracy: 0.2414\n",
      "Epoch 22/100\n",
      "9/9 [==============================] - 12s 1s/step - loss: 1.5688 - accuracy: 0.4059 - val_loss: 1.8188 - val_accuracy: 0.2414\n",
      "Epoch 23/100\n",
      "9/9 [==============================] - 12s 1s/step - loss: 1.5497 - accuracy: 0.4096 - val_loss: 1.8172 - val_accuracy: 0.2414\n",
      "Epoch 24/100\n",
      "9/9 [==============================] - 12s 1s/step - loss: 1.5312 - accuracy: 0.4059 - val_loss: 1.8153 - val_accuracy: 0.2414\n",
      "Epoch 25/100\n",
      "9/9 [==============================] - 12s 1s/step - loss: 1.5129 - accuracy: 0.4170 - val_loss: 1.8136 - val_accuracy: 0.2414\n",
      "Epoch 26/100\n",
      "9/9 [==============================] - 12s 1s/step - loss: 1.4950 - accuracy: 0.4170 - val_loss: 1.8110 - val_accuracy: 0.2414\n",
      "Epoch 27/100\n",
      "9/9 [==============================] - 12s 1s/step - loss: 1.4761 - accuracy: 0.4244 - val_loss: 1.8103 - val_accuracy: 0.2414\n",
      "Epoch 28/100\n",
      "9/9 [==============================] - 12s 1s/step - loss: 1.4591 - accuracy: 0.4391 - val_loss: 1.8082 - val_accuracy: 0.2759\n",
      "Epoch 29/100\n",
      "9/9 [==============================] - 12s 1s/step - loss: 1.4409 - accuracy: 0.4391 - val_loss: 1.8069 - val_accuracy: 0.2759\n",
      "Epoch 30/100\n",
      "9/9 [==============================] - 12s 1s/step - loss: 1.4235 - accuracy: 0.4502 - val_loss: 1.8059 - val_accuracy: 0.2759\n",
      "Epoch 31/100\n",
      "9/9 [==============================] - 12s 1s/step - loss: 1.4062 - accuracy: 0.4576 - val_loss: 1.8047 - val_accuracy: 0.2759\n",
      "Epoch 32/100\n",
      "9/9 [==============================] - 12s 1s/step - loss: 1.3893 - accuracy: 0.4613 - val_loss: 1.8032 - val_accuracy: 0.2759\n",
      "Epoch 33/100\n",
      "9/9 [==============================] - 12s 1s/step - loss: 1.3722 - accuracy: 0.4649 - val_loss: 1.8017 - val_accuracy: 0.2759\n",
      "Epoch 34/100\n",
      "9/9 [==============================] - 12s 1s/step - loss: 1.3563 - accuracy: 0.4723 - val_loss: 1.7998 - val_accuracy: 0.2759\n",
      "Epoch 35/100\n",
      "9/9 [==============================] - 12s 1s/step - loss: 1.3400 - accuracy: 0.4760 - val_loss: 1.7990 - val_accuracy: 0.2759\n",
      "Epoch 36/100\n",
      "9/9 [==============================] - 12s 1s/step - loss: 1.3238 - accuracy: 0.4797 - val_loss: 1.7978 - val_accuracy: 0.2759\n",
      "Epoch 37/100\n",
      "9/9 [==============================] - 12s 1s/step - loss: 1.3079 - accuracy: 0.4834 - val_loss: 1.7965 - val_accuracy: 0.3103\n",
      "Epoch 38/100\n",
      "9/9 [==============================] - 12s 1s/step - loss: 1.2927 - accuracy: 0.4871 - val_loss: 1.7959 - val_accuracy: 0.3103\n",
      "Epoch 39/100\n",
      "9/9 [==============================] - 12s 1s/step - loss: 1.2771 - accuracy: 0.5055 - val_loss: 1.7961 - val_accuracy: 0.3103\n",
      "Epoch 40/100\n",
      "9/9 [==============================] - 12s 1s/step - loss: 1.2613 - accuracy: 0.5055 - val_loss: 1.7952 - val_accuracy: 0.3103\n",
      "Epoch 41/100\n",
      "9/9 [==============================] - 12s 1s/step - loss: 1.2458 - accuracy: 0.5055 - val_loss: 1.7945 - val_accuracy: 0.3103\n",
      "Epoch 42/100\n",
      "9/9 [==============================] - 12s 1s/step - loss: 1.2307 - accuracy: 0.5129 - val_loss: 1.7945 - val_accuracy: 0.3103\n",
      "Epoch 43/100\n",
      "9/9 [==============================] - 12s 1s/step - loss: 1.2157 - accuracy: 0.5129 - val_loss: 1.7930 - val_accuracy: 0.3103\n",
      "Epoch 44/100\n",
      "9/9 [==============================] - 12s 1s/step - loss: 1.2011 - accuracy: 0.5166 - val_loss: 1.7922 - val_accuracy: 0.3103\n",
      "Epoch 45/100\n",
      "9/9 [==============================] - 12s 1s/step - loss: 1.1870 - accuracy: 0.5203 - val_loss: 1.7920 - val_accuracy: 0.3103\n",
      "Epoch 46/100\n",
      "9/9 [==============================] - 12s 1s/step - loss: 1.1727 - accuracy: 0.5277 - val_loss: 1.7902 - val_accuracy: 0.3103\n",
      "Epoch 47/100\n",
      "9/9 [==============================] - 12s 1s/step - loss: 1.1588 - accuracy: 0.5351 - val_loss: 1.7902 - val_accuracy: 0.3103\n",
      "Epoch 48/100\n",
      "9/9 [==============================] - 12s 1s/step - loss: 1.1450 - accuracy: 0.5351 - val_loss: 1.7893 - val_accuracy: 0.3103\n",
      "Epoch 49/100\n",
      "9/9 [==============================] - 12s 1s/step - loss: 1.1315 - accuracy: 0.5387 - val_loss: 1.7894 - val_accuracy: 0.3103\n",
      "Epoch 50/100\n",
      "9/9 [==============================] - 12s 1s/step - loss: 1.1182 - accuracy: 0.5461 - val_loss: 1.7880 - val_accuracy: 0.3103\n",
      "Epoch 51/100\n",
      "9/9 [==============================] - 12s 1s/step - loss: 1.1053 - accuracy: 0.5535 - val_loss: 1.7871 - val_accuracy: 0.3103\n",
      "Epoch 52/100\n",
      "9/9 [==============================] - 12s 1s/step - loss: 1.0920 - accuracy: 0.5535 - val_loss: 1.7872 - val_accuracy: 0.3103\n",
      "Epoch 53/100\n",
      "9/9 [==============================] - 12s 1s/step - loss: 1.0795 - accuracy: 0.5609 - val_loss: 1.7869 - val_accuracy: 0.3103\n",
      "Epoch 54/100\n",
      "9/9 [==============================] - 12s 1s/step - loss: 1.0673 - accuracy: 0.5646 - val_loss: 1.7862 - val_accuracy: 0.3103\n",
      "Epoch 55/100\n",
      "9/9 [==============================] - 12s 1s/step - loss: 1.0547 - accuracy: 0.5720 - val_loss: 1.7868 - val_accuracy: 0.3103\n",
      "Epoch 56/100\n",
      "9/9 [==============================] - 12s 1s/step - loss: 1.0423 - accuracy: 0.5793 - val_loss: 1.7868 - val_accuracy: 0.3103\n",
      "Epoch 57/100\n",
      "9/9 [==============================] - 12s 1s/step - loss: 1.0296 - accuracy: 0.5830 - val_loss: 1.7874 - val_accuracy: 0.3103\n",
      "Epoch 58/100\n",
      "9/9 [==============================] - 12s 1s/step - loss: 1.0177 - accuracy: 0.5867 - val_loss: 1.7866 - val_accuracy: 0.3103\n",
      "Epoch 59/100\n",
      "9/9 [==============================] - 12s 1s/step - loss: 1.0057 - accuracy: 0.5941 - val_loss: 1.7866 - val_accuracy: 0.3103\n",
      "Epoch 60/100\n",
      "9/9 [==============================] - 12s 1s/step - loss: 0.9948 - accuracy: 0.5941 - val_loss: 1.7870 - val_accuracy: 0.3103\n",
      "Epoch 61/100\n",
      "9/9 [==============================] - 12s 1s/step - loss: 0.9827 - accuracy: 0.5941 - val_loss: 1.7864 - val_accuracy: 0.3103\n",
      "Epoch 62/100\n",
      "9/9 [==============================] - 12s 1s/step - loss: 0.9717 - accuracy: 0.5978 - val_loss: 1.7864 - val_accuracy: 0.3103\n",
      "Epoch 63/100\n",
      "9/9 [==============================] - 12s 1s/step - loss: 0.9600 - accuracy: 0.6015 - val_loss: 1.7867 - val_accuracy: 0.3103\n",
      "Epoch 64/100\n",
      "9/9 [==============================] - 12s 1s/step - loss: 0.9488 - accuracy: 0.6125 - val_loss: 1.7867 - val_accuracy: 0.3103\n",
      "Epoch 65/100\n",
      "9/9 [==============================] - 12s 1s/step - loss: 0.9380 - accuracy: 0.6273 - val_loss: 1.7867 - val_accuracy: 0.3103\n",
      "Epoch 66/100\n",
      "9/9 [==============================] - 12s 1s/step - loss: 0.9266 - accuracy: 0.6310 - val_loss: 1.7864 - val_accuracy: 0.3103\n",
      "Epoch 67/100\n",
      "9/9 [==============================] - 13s 1s/step - loss: 0.9160 - accuracy: 0.6310 - val_loss: 1.7863 - val_accuracy: 0.3103\n",
      "Epoch 68/100\n",
      "9/9 [==============================] - 12s 1s/step - loss: 0.9052 - accuracy: 0.6347 - val_loss: 1.7858 - val_accuracy: 0.3103\n",
      "Epoch 69/100\n",
      "9/9 [==============================] - 12s 1s/step - loss: 0.8945 - accuracy: 0.6347 - val_loss: 1.7861 - val_accuracy: 0.3103\n",
      "Epoch 70/100\n",
      "9/9 [==============================] - 12s 1s/step - loss: 0.8839 - accuracy: 0.6421 - val_loss: 1.7852 - val_accuracy: 0.3103\n",
      "Epoch 71/100\n",
      "9/9 [==============================] - 12s 1s/step - loss: 0.8736 - accuracy: 0.6458 - val_loss: 1.7854 - val_accuracy: 0.3103\n",
      "Epoch 72/100\n",
      "9/9 [==============================] - 12s 1s/step - loss: 0.8634 - accuracy: 0.6494 - val_loss: 1.7846 - val_accuracy: 0.3103\n",
      "Epoch 73/100\n",
      "9/9 [==============================] - 12s 1s/step - loss: 0.8534 - accuracy: 0.6531 - val_loss: 1.7842 - val_accuracy: 0.3103\n",
      "Epoch 74/100\n",
      "9/9 [==============================] - 12s 1s/step - loss: 0.8433 - accuracy: 0.6531 - val_loss: 1.7837 - val_accuracy: 0.3103\n",
      "Epoch 75/100\n",
      "9/9 [==============================] - 13s 1s/step - loss: 0.8333 - accuracy: 0.6568 - val_loss: 1.7833 - val_accuracy: 0.3103\n",
      "Epoch 76/100\n",
      "9/9 [==============================] - 12s 1s/step - loss: 0.8239 - accuracy: 0.6568 - val_loss: 1.7828 - val_accuracy: 0.3103\n",
      "Epoch 77/100\n",
      "9/9 [==============================] - 13s 1s/step - loss: 0.8146 - accuracy: 0.6605 - val_loss: 1.7830 - val_accuracy: 0.3103\n",
      "Epoch 78/100\n",
      "9/9 [==============================] - 13s 1s/step - loss: 0.8054 - accuracy: 0.6642 - val_loss: 1.7828 - val_accuracy: 0.3103\n",
      "Epoch 79/100\n",
      "9/9 [==============================] - 13s 1s/step - loss: 0.7956 - accuracy: 0.6716 - val_loss: 1.7832 - val_accuracy: 0.3103\n",
      "Epoch 80/100\n",
      "9/9 [==============================] - 12s 1s/step - loss: 0.7865 - accuracy: 0.6790 - val_loss: 1.7825 - val_accuracy: 0.3103\n",
      "Epoch 81/100\n",
      "9/9 [==============================] - 12s 1s/step - loss: 0.7774 - accuracy: 0.6863 - val_loss: 1.7829 - val_accuracy: 0.3103\n",
      "Epoch 82/100\n",
      "9/9 [==============================] - 12s 1s/step - loss: 0.7683 - accuracy: 0.6900 - val_loss: 1.7825 - val_accuracy: 0.3103\n",
      "Epoch 83/100\n",
      "9/9 [==============================] - 12s 1s/step - loss: 0.7594 - accuracy: 0.6974 - val_loss: 1.7824 - val_accuracy: 0.3103\n",
      "Epoch 84/100\n",
      "9/9 [==============================] - 12s 1s/step - loss: 0.7509 - accuracy: 0.7011 - val_loss: 1.7831 - val_accuracy: 0.3103\n",
      "Epoch 85/100\n",
      "9/9 [==============================] - 12s 1s/step - loss: 0.7423 - accuracy: 0.7048 - val_loss: 1.7830 - val_accuracy: 0.3103\n",
      "Epoch 86/100\n",
      "9/9 [==============================] - 12s 1s/step - loss: 0.7338 - accuracy: 0.7085 - val_loss: 1.7827 - val_accuracy: 0.3103\n",
      "Epoch 87/100\n",
      "9/9 [==============================] - 12s 1s/step - loss: 0.7256 - accuracy: 0.7085 - val_loss: 1.7834 - val_accuracy: 0.3103\n",
      "Epoch 88/100\n",
      "9/9 [==============================] - 12s 1s/step - loss: 0.7173 - accuracy: 0.7085 - val_loss: 1.7828 - val_accuracy: 0.3103\n",
      "Epoch 89/100\n",
      "9/9 [==============================] - 12s 1s/step - loss: 0.7090 - accuracy: 0.7159 - val_loss: 1.7824 - val_accuracy: 0.3103\n",
      "Epoch 90/100\n",
      "9/9 [==============================] - 12s 1s/step - loss: 0.7014 - accuracy: 0.7196 - val_loss: 1.7826 - val_accuracy: 0.3103\n",
      "Epoch 91/100\n",
      "9/9 [==============================] - 12s 1s/step - loss: 0.6930 - accuracy: 0.7232 - val_loss: 1.7821 - val_accuracy: 0.3103\n",
      "Epoch 92/100\n",
      "9/9 [==============================] - 12s 1s/step - loss: 0.6854 - accuracy: 0.7269 - val_loss: 1.7818 - val_accuracy: 0.3103\n",
      "Epoch 93/100\n",
      "9/9 [==============================] - 12s 1s/step - loss: 0.6776 - accuracy: 0.7343 - val_loss: 1.7826 - val_accuracy: 0.3103\n",
      "Epoch 94/100\n",
      "9/9 [==============================] - 12s 1s/step - loss: 0.6703 - accuracy: 0.7343 - val_loss: 1.7828 - val_accuracy: 0.3103\n",
      "Epoch 95/100\n",
      "9/9 [==============================] - 12s 1s/step - loss: 0.6629 - accuracy: 0.7380 - val_loss: 1.7830 - val_accuracy: 0.3103\n",
      "Epoch 96/100\n",
      "9/9 [==============================] - 12s 1s/step - loss: 0.6554 - accuracy: 0.7380 - val_loss: 1.7833 - val_accuracy: 0.3103\n",
      "Epoch 97/100\n",
      "9/9 [==============================] - 12s 1s/step - loss: 0.6482 - accuracy: 0.7454 - val_loss: 1.7839 - val_accuracy: 0.3103\n",
      "Epoch 98/100\n",
      "9/9 [==============================] - 12s 1s/step - loss: 0.6407 - accuracy: 0.7565 - val_loss: 1.7836 - val_accuracy: 0.3103\n",
      "Epoch 99/100\n",
      "9/9 [==============================] - 12s 1s/step - loss: 0.6338 - accuracy: 0.7675 - val_loss: 1.7829 - val_accuracy: 0.3103\n",
      "Epoch 100/100\n",
      "9/9 [==============================] - 12s 1s/step - loss: 0.6270 - accuracy: 0.7675 - val_loss: 1.7831 - val_accuracy: 0.3103\n"
     ]
    }
   ],
   "source": [
    "history = model.fit(train_generator, epochs=100,validation_data=test_generator)"
   ]
  },
  {
   "cell_type": "code",
   "execution_count": 38,
   "metadata": {},
   "outputs": [
    {
     "data": {
      "text/plain": [
       "[<matplotlib.lines.Line2D at 0x17db139d160>]"
      ]
     },
     "execution_count": 38,
     "metadata": {},
     "output_type": "execute_result"
    },
    {
     "data": {
      "image/png": "[encoded data removed]",
      "text/plain": [
       "<Figure size 640x480 with 1 Axes>"
      ]
     },
     "metadata": {},
     "output_type": "display_data"
    }
   ],
   "source": [
    "plt.plot(history.history['accuracy'])"
   ]
  },
  {
   "cell_type": "code",
   "execution_count": 35,
   "metadata": {},
   "outputs": [
    {
     "name": "stdout",
     "output_type": "stream",
     "text": [
      "9/9 [==============================] - 10s 1s/step - loss: 0.6222 - accuracy: 0.7675\n"
     ]
    },
    {
     "data": {
      "text/plain": [
       "[0.6221885681152344, 0.76752769947052]"
      ]
     },
     "execution_count": 35,
     "metadata": {},
     "output_type": "execute_result"
    }
   ],
   "source": [
    "model.evaluate(train_generator)     "
   ]
  },
  {
   "cell_type": "code",
   "execution_count": 36,
   "metadata": {},
   "outputs": [],
   "source": [
    "model.save('model.h5')"
   ]
  },
  {
   "cell_type": "code",
   "execution_count": 37,
   "metadata": {},
   "outputs": [
    {
     "ename": "ImportError",
     "evalue": "DLL load failed while importing cv2: The specified module could not be found.",
     "output_type": "error",
     "traceback": [
      "\u001b[1;31m---------------------------------------------------------------------------\u001b[0m",
      "\u001b[1;31mImportError\u001b[0m                               Traceback (most recent call last)",
      "Cell \u001b[1;32mIn[37], line 1\u001b[0m\n\u001b[1;32m----> 1\u001b[0m \u001b[39mimport\u001b[39;00m \u001b[39mcv2\u001b[39;00m \u001b[39mas\u001b[39;00m \u001b[39mcv\u001b[39;00m\n\u001b[0;32m      2\u001b[0m \u001b[39mprint\u001b[39m( cv\u001b[39m.\u001b[39m__version__ )\n",
      "File \u001b[1;32mc:\\ProgramData\\Miniconda3\\lib\\site-packages\\cv2\\__init__.py:181\u001b[0m\n\u001b[0;32m    176\u001b[0m             \u001b[39mif\u001b[39;00m DEBUG: \u001b[39mprint\u001b[39m(\u001b[39m\"\u001b[39m\u001b[39mExtra Python code for\u001b[39m\u001b[39m\"\u001b[39m, submodule, \u001b[39m\"\u001b[39m\u001b[39mis loaded\u001b[39m\u001b[39m\"\u001b[39m)\n\u001b[0;32m    178\u001b[0m     \u001b[39mif\u001b[39;00m DEBUG: \u001b[39mprint\u001b[39m(\u001b[39m'\u001b[39m\u001b[39mOpenCV loader: DONE\u001b[39m\u001b[39m'\u001b[39m)\n\u001b[1;32m--> 181\u001b[0m bootstrap()\n",
      "File \u001b[1;32mc:\\ProgramData\\Miniconda3\\lib\\site-packages\\cv2\\__init__.py:153\u001b[0m, in \u001b[0;36mbootstrap\u001b[1;34m()\u001b[0m\n\u001b[0;32m    149\u001b[0m \u001b[39mif\u001b[39;00m DEBUG: \u001b[39mprint\u001b[39m(\u001b[39m\"\u001b[39m\u001b[39mRelink everything from native cv2 module to cv2 package\u001b[39m\u001b[39m\"\u001b[39m)\n\u001b[0;32m    151\u001b[0m py_module \u001b[39m=\u001b[39m sys\u001b[39m.\u001b[39mmodules\u001b[39m.\u001b[39mpop(\u001b[39m\"\u001b[39m\u001b[39mcv2\u001b[39m\u001b[39m\"\u001b[39m)\n\u001b[1;32m--> 153\u001b[0m native_module \u001b[39m=\u001b[39m importlib\u001b[39m.\u001b[39;49mimport_module(\u001b[39m\"\u001b[39;49m\u001b[39mcv2\u001b[39;49m\u001b[39m\"\u001b[39;49m)\n\u001b[0;32m    155\u001b[0m sys\u001b[39m.\u001b[39mmodules[\u001b[39m\"\u001b[39m\u001b[39mcv2\u001b[39m\u001b[39m\"\u001b[39m] \u001b[39m=\u001b[39m py_module\n\u001b[0;32m    156\u001b[0m \u001b[39msetattr\u001b[39m(py_module, \u001b[39m\"\u001b[39m\u001b[39m_native\u001b[39m\u001b[39m\"\u001b[39m, native_module)\n",
      "File \u001b[1;32mc:\\ProgramData\\Miniconda3\\lib\\importlib\\__init__.py:127\u001b[0m, in \u001b[0;36mimport_module\u001b[1;34m(name, package)\u001b[0m\n\u001b[0;32m    125\u001b[0m             \u001b[39mbreak\u001b[39;00m\n\u001b[0;32m    126\u001b[0m         level \u001b[39m+\u001b[39m\u001b[39m=\u001b[39m \u001b[39m1\u001b[39m\n\u001b[1;32m--> 127\u001b[0m \u001b[39mreturn\u001b[39;00m _bootstrap\u001b[39m.\u001b[39;49m_gcd_import(name[level:], package, level)\n",
      "\u001b[1;31mImportError\u001b[0m: DLL load failed while importing cv2: The specified module could not be found."
     ]
    }
   ],
   "source": [
    "import cv2 as cv\n",
    "print( cv.__version__ )"
   ]
  },
  {
   "cell_type": "code",
   "execution_count": 42,
   "metadata": {},
   "outputs": [
    {
     "name": "stdout",
     "output_type": "stream",
     "text": [
      "28.jpg\n",
      "./dataset/batik-bali/28.jpg\n",
      "1/1 [==============================] - 0s 109ms/step\n",
      "batik-bali\n"
     ]
    }
   ],
   "source": [
    "from PIL import Image\n",
    "import os\n",
    "import random\n",
    "list_dir=os.listdir('./dataset')\n",
    "classes = list_dir\n",
    "#import image from path\n",
    "# import os\n",
    "# for dir in os.listdir(\"./dataset\"):\n",
    "#     for file in os.listdir(\"./dataset/\"+dir):\n",
    "#         if file.endswith(\".jpg\"):\n",
    "#             path=random.choice(os.path.join(\"/dataset\",file))\n",
    "#             print(path)\n",
    "random_file=random.choice(os.listdir(\"./dataset/batik-bali/\"))\n",
    "print(random_file)\n",
    "path=os.path.join(\"./dataset/batik-bali/\",random_file)\n",
    "print(path)\n",
    "image=Image.open(path)\n",
    "image_resize=tf.image.resize(image,[224,224])\n",
    "convert_image=tf.image.convert_image_dtype(image_resize,tf.float32)\n",
    "prediction=model.predict(np.array([convert_image]))\n",
    "detected_image=classes[np.argmax(prediction)]\n",
    "print(detected_image)"
   ]
  }
 ],
 "metadata": {
  "kernelspec": {
   "display_name": "base",
   "language": "python",
   "name": "python3"
  },
  "language_info": {
   "codemirror_mode": {
    "name": "ipython",
    "version": 3
   },
   "file_extension": ".py",
   "mimetype": "text/x-python",
   "name": "python",
   "nbconvert_exporter": "python",
   "pygments_lexer": "ipython3",
   "version": "3.9.12 (main, Apr  4 2022, 05:22:27) [MSC v.1916 64 bit (AMD64)]"
  },
  "orig_nbformat": 4,
  "vscode": {
   "interpreter": {
    "hash": "19d1d53a962d236aa061289c2ac16dc8e6d9648c89fe79f459ae9a3493bc67b4"
   }
  }
 },
 "nbformat": 4,
 "nbformat_minor": 2
}

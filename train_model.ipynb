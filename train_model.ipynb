{
 "cells": [
  {
   "cell_type": "code",
   "execution_count": 5,
   "metadata": {},
   "outputs": [],
   "source": [
    "import tensorflow as tf\n",
    "import numpy as np\n",
    "import matplotlib.pyplot as plt\n",
    "from keras.preprocessing.image import ImageDataGenerator"
   ]
  },
  {
   "cell_type": "code",
   "execution_count": 6,
   "metadata": {},
   "outputs": [
    {
     "data": {
      "text/plain": [
       "'2.9.2'"
      ]
     },
     "execution_count": 6,
     "metadata": {},
     "output_type": "execute_result"
    }
   ],
   "source": [
    "tf.__version__"
   ]
  },
  {
   "cell_type": "code",
   "execution_count": 7,
   "metadata": {},
   "outputs": [
    {
     "name": "stdout",
     "output_type": "stream",
     "text": [
      "PhysicalDevice(name='/physical_device:GPU:0', device_type='GPU') PhysicalDevice(name='/physical_device:GPU:1', device_type='GPU')\n"
     ]
    }
   ],
   "source": [
    "gpus = tf.config.experimental.list_physical_devices('GPU')\n",
    "if gpus:\n",
    "  # Restrict TensorFlow to only use the first GPU\n",
    "  print(gpus[0], gpus[1])\n",
    "  try:\n",
    "    tf.config.experimental.set_visible_devices(gpus[1], 'GPU')\n",
    "  except RuntimeError as e:\n",
    "    # Visible devices must be set at program startup\n",
    "    print(e)"
   ]
  },
  {
   "cell_type": "code",
   "execution_count": 8,
   "metadata": {},
   "outputs": [],
   "source": [
    "train_datagen = ImageDataGenerator(rescale=1./255)\n",
    "# test_datagen = ImageDataGenerator(rescale=1./255)"
   ]
  },
  {
   "cell_type": "code",
   "execution_count": 9,
   "metadata": {},
   "outputs": [
    {
     "name": "stdout",
     "output_type": "stream",
     "text": [
      "Found 154 images belonging to 4 classes.\n"
     ]
    }
   ],
   "source": [
    "train_generator = train_datagen.flow_from_directory('./dataset',target_size=(128,128),batch_size=32,class_mode='categorical')\n",
    "# test_generator = test_datagen.flow_from_directory()"
   ]
  },
  {
   "cell_type": "code",
   "execution_count": 18,
   "metadata": {},
   "outputs": [],
   "source": [
    "resnet_50_model = tf.keras.applications.mobilenet_v2.MobileNetV2(\n",
    "    input_shape=(128,128,3),\n",
    "    include_top=False,\n",
    "    weights='imagenet'\n",
    ")\n",
    "resnet_50_model.trainable = False"
   ]
  },
  {
   "cell_type": "code",
   "execution_count": 19,
   "metadata": {},
   "outputs": [],
   "source": [
    "model = tf.keras.Sequential([\n",
    "    resnet_50_model,\n",
    "    tf.keras.layers.Flatten(),\n",
    "    tf.keras.layers.Dense(128, activation='relu'),\n",
    "    tf.keras.layers.Dense(4, activation='softmax')\n",
    "])"
   ]
  },
  {
   "cell_type": "code",
   "execution_count": 20,
   "metadata": {},
   "outputs": [],
   "source": [
    "model.compile(optimizer='adam', loss='categorical_crossentropy', metrics=['accuracy'])"
   ]
  },
  {
   "cell_type": "code",
   "execution_count": 21,
   "metadata": {},
   "outputs": [
    {
     "name": "stdout",
     "output_type": "stream",
     "text": [
      "Model: \"sequential_1\"\n",
      "_________________________________________________________________\n",
      " Layer (type)                Output Shape              Param #   \n",
      "=================================================================\n",
      " mobilenetv2_1.00_128 (Funct  (None, 4, 4, 1280)       2257984   \n",
      " ional)                                                          \n",
      "                                                                 \n",
      " flatten_1 (Flatten)         (None, 20480)             0         \n",
      "                                                                 \n",
      " dense_1 (Dense)             (None, 128)               2621568   \n",
      "                                                                 \n",
      " dense_2 (Dense)             (None, 4)                 516       \n",
      "                                                                 \n",
      "=================================================================\n",
      "Total params: 4,880,068\n",
      "Trainable params: 2,622,084\n",
      "Non-trainable params: 2,257,984\n",
      "_________________________________________________________________\n"
     ]
    }
   ],
   "source": [
    "model.summary()"
   ]
  },
  {
   "cell_type": "code",
   "execution_count": 25,
   "metadata": {},
   "outputs": [
    {
     "name": "stdout",
     "output_type": "stream",
     "text": [
      "Epoch 1/100\n",
      "5/5 [==============================] - 2s 382ms/step - loss: 0.3611 - accuracy: 0.8831\n",
      "Epoch 2/100\n",
      "5/5 [==============================] - 2s 482ms/step - loss: 0.1874 - accuracy: 0.9351\n",
      "Epoch 3/100\n",
      "5/5 [==============================] - 2s 440ms/step - loss: 0.0832 - accuracy: 0.9740\n",
      "Epoch 4/100\n",
      "5/5 [==============================] - 2s 419ms/step - loss: 0.0788 - accuracy: 0.9675\n",
      "Epoch 5/100\n",
      "5/5 [==============================] - 2s 432ms/step - loss: 0.0658 - accuracy: 0.9675\n",
      "Epoch 6/100\n",
      "5/5 [==============================] - 2s 459ms/step - loss: 0.0570 - accuracy: 0.9675\n",
      "Epoch 7/100\n",
      "5/5 [==============================] - 2s 466ms/step - loss: 0.0564 - accuracy: 0.9740\n",
      "Epoch 8/100\n",
      "5/5 [==============================] - 2s 425ms/step - loss: 0.0681 - accuracy: 0.9610\n",
      "Epoch 9/100\n",
      "5/5 [==============================] - 2s 413ms/step - loss: 0.0515 - accuracy: 0.9675\n",
      "Epoch 10/100\n",
      "5/5 [==============================] - 2s 459ms/step - loss: 0.0724 - accuracy: 0.9675\n",
      "Epoch 11/100\n",
      "5/5 [==============================] - 2s 487ms/step - loss: 0.0497 - accuracy: 0.9740\n",
      "Epoch 12/100\n",
      "5/5 [==============================] - 2s 392ms/step - loss: 0.0469 - accuracy: 0.9610\n",
      "Epoch 13/100\n",
      "5/5 [==============================] - 2s 448ms/step - loss: 0.0650 - accuracy: 0.9740\n",
      "Epoch 14/100\n",
      "5/5 [==============================] - 2s 413ms/step - loss: 0.0472 - accuracy: 0.9740\n",
      "Epoch 15/100\n",
      "5/5 [==============================] - 2s 428ms/step - loss: 0.0661 - accuracy: 0.9740\n",
      "Epoch 16/100\n",
      "5/5 [==============================] - 2s 441ms/step - loss: 0.0556 - accuracy: 0.9740\n",
      "Epoch 17/100\n",
      "5/5 [==============================] - 2s 497ms/step - loss: 0.0676 - accuracy: 0.9740\n",
      "Epoch 18/100\n",
      "5/5 [==============================] - 2s 454ms/step - loss: 0.0552 - accuracy: 0.9740\n",
      "Epoch 19/100\n",
      "5/5 [==============================] - 3s 573ms/step - loss: 0.0660 - accuracy: 0.9675\n",
      "Epoch 20/100\n",
      "5/5 [==============================] - 2s 498ms/step - loss: 0.0718 - accuracy: 0.9740\n",
      "Epoch 21/100\n",
      "5/5 [==============================] - 2s 490ms/step - loss: 0.0684 - accuracy: 0.9675\n",
      "Epoch 22/100\n",
      "5/5 [==============================] - 2s 450ms/step - loss: 0.0826 - accuracy: 0.9675\n",
      "Epoch 23/100\n",
      "5/5 [==============================] - 2s 491ms/step - loss: 0.0899 - accuracy: 0.9610\n",
      "Epoch 24/100\n",
      "5/5 [==============================] - 2s 510ms/step - loss: 0.0687 - accuracy: 0.9675\n",
      "Epoch 25/100\n",
      "5/5 [==============================] - 2s 437ms/step - loss: 0.0663 - accuracy: 0.9675\n",
      "Epoch 26/100\n",
      "5/5 [==============================] - 3s 507ms/step - loss: 0.0868 - accuracy: 0.9675\n",
      "Epoch 27/100\n",
      "5/5 [==============================] - 3s 570ms/step - loss: 0.0860 - accuracy: 0.9740\n",
      "Epoch 28/100\n",
      "5/5 [==============================] - 3s 528ms/step - loss: 0.0883 - accuracy: 0.9740\n",
      "Epoch 29/100\n",
      "5/5 [==============================] - 3s 584ms/step - loss: 0.0913 - accuracy: 0.9740\n",
      "Epoch 30/100\n",
      "5/5 [==============================] - 3s 489ms/step - loss: 0.0817 - accuracy: 0.9740\n",
      "Epoch 31/100\n",
      "5/5 [==============================] - 3s 569ms/step - loss: 0.0732 - accuracy: 0.9740\n",
      "Epoch 32/100\n",
      "5/5 [==============================] - 3s 520ms/step - loss: 0.0706 - accuracy: 0.9740\n",
      "Epoch 33/100\n",
      "5/5 [==============================] - 3s 510ms/step - loss: 0.0617 - accuracy: 0.9675\n",
      "Epoch 34/100\n",
      "5/5 [==============================] - 3s 450ms/step - loss: 0.0496 - accuracy: 0.9740\n",
      "Epoch 35/100\n",
      "5/5 [==============================] - 3s 461ms/step - loss: 0.0630 - accuracy: 0.9610\n",
      "Epoch 36/100\n",
      "5/5 [==============================] - 3s 523ms/step - loss: 0.0702 - accuracy: 0.9610\n",
      "Epoch 37/100\n",
      "5/5 [==============================] - 3s 520ms/step - loss: 0.0675 - accuracy: 0.9675\n",
      "Epoch 38/100\n",
      "5/5 [==============================] - 2s 419ms/step - loss: 0.0415 - accuracy: 0.9805\n",
      "Epoch 39/100\n",
      "5/5 [==============================] - 2s 452ms/step - loss: 0.0566 - accuracy: 0.9610\n",
      "Epoch 40/100\n",
      "5/5 [==============================] - 2s 400ms/step - loss: 0.0489 - accuracy: 0.9545\n",
      "Epoch 41/100\n",
      "5/5 [==============================] - 3s 502ms/step - loss: 0.0514 - accuracy: 0.9675\n",
      "Epoch 42/100\n",
      "5/5 [==============================] - 3s 476ms/step - loss: 0.0552 - accuracy: 0.9675\n",
      "Epoch 43/100\n",
      "5/5 [==============================] - 3s 486ms/step - loss: 0.0553 - accuracy: 0.9675\n",
      "Epoch 44/100\n",
      "5/5 [==============================] - 3s 534ms/step - loss: 0.0684 - accuracy: 0.9610\n",
      "Epoch 45/100\n",
      "5/5 [==============================] - 2s 472ms/step - loss: 0.0790 - accuracy: 0.9675\n",
      "Epoch 46/100\n",
      "5/5 [==============================] - 2s 461ms/step - loss: 0.0638 - accuracy: 0.9740\n",
      "Epoch 47/100\n",
      "5/5 [==============================] - 2s 473ms/step - loss: 0.0684 - accuracy: 0.9675\n",
      "Epoch 48/100\n",
      "5/5 [==============================] - 2s 407ms/step - loss: 0.0619 - accuracy: 0.9740\n",
      "Epoch 49/100\n",
      "5/5 [==============================] - 2s 450ms/step - loss: 0.0815 - accuracy: 0.9545\n",
      "Epoch 50/100\n",
      "5/5 [==============================] - 2s 484ms/step - loss: 0.0532 - accuracy: 0.9740\n",
      "Epoch 51/100\n",
      "5/5 [==============================] - 2s 436ms/step - loss: 0.0512 - accuracy: 0.9675\n",
      "Epoch 52/100\n",
      "5/5 [==============================] - 3s 479ms/step - loss: 0.0441 - accuracy: 0.9675\n",
      "Epoch 53/100\n",
      "5/5 [==============================] - 3s 592ms/step - loss: 0.0624 - accuracy: 0.9610\n",
      "Epoch 54/100\n",
      "5/5 [==============================] - 3s 514ms/step - loss: 0.0669 - accuracy: 0.9610\n",
      "Epoch 55/100\n",
      "5/5 [==============================] - 2s 456ms/step - loss: 0.0658 - accuracy: 0.9610\n",
      "Epoch 56/100\n",
      "5/5 [==============================] - 3s 612ms/step - loss: 0.0457 - accuracy: 0.9740\n",
      "Epoch 57/100\n",
      "5/5 [==============================] - 3s 553ms/step - loss: 0.0599 - accuracy: 0.9740\n",
      "Epoch 58/100\n",
      "5/5 [==============================] - 3s 539ms/step - loss: 0.0483 - accuracy: 0.9740\n",
      "Epoch 59/100\n",
      "5/5 [==============================] - 3s 534ms/step - loss: 0.0629 - accuracy: 0.9610\n",
      "Epoch 60/100\n",
      "5/5 [==============================] - 3s 531ms/step - loss: 0.0534 - accuracy: 0.9675\n",
      "Epoch 61/100\n",
      "5/5 [==============================] - 3s 536ms/step - loss: 0.0510 - accuracy: 0.9675\n",
      "Epoch 62/100\n",
      "5/5 [==============================] - 3s 564ms/step - loss: 0.0626 - accuracy: 0.9740\n",
      "Epoch 63/100\n",
      "5/5 [==============================] - 3s 466ms/step - loss: 0.0538 - accuracy: 0.9675\n",
      "Epoch 64/100\n",
      "5/5 [==============================] - 3s 538ms/step - loss: 0.0673 - accuracy: 0.9610\n",
      "Epoch 65/100\n",
      "5/5 [==============================] - 3s 528ms/step - loss: 0.0701 - accuracy: 0.9610\n",
      "Epoch 66/100\n",
      "5/5 [==============================] - 3s 508ms/step - loss: 0.0486 - accuracy: 0.9740\n",
      "Epoch 67/100\n",
      "5/5 [==============================] - 3s 566ms/step - loss: 0.0824 - accuracy: 0.9675\n",
      "Epoch 68/100\n",
      "5/5 [==============================] - 3s 549ms/step - loss: 0.0869 - accuracy: 0.9675\n",
      "Epoch 69/100\n",
      "5/5 [==============================] - 3s 488ms/step - loss: 0.0745 - accuracy: 0.9740\n",
      "Epoch 70/100\n",
      "5/5 [==============================] - 3s 543ms/step - loss: 0.0569 - accuracy: 0.9740\n",
      "Epoch 71/100\n",
      "5/5 [==============================] - 3s 599ms/step - loss: 0.0445 - accuracy: 0.9740\n",
      "Epoch 72/100\n",
      "5/5 [==============================] - 3s 543ms/step - loss: 0.0560 - accuracy: 0.9675\n",
      "Epoch 73/100\n",
      "5/5 [==============================] - 3s 561ms/step - loss: 0.0626 - accuracy: 0.9675\n",
      "Epoch 74/100\n",
      "5/5 [==============================] - 3s 564ms/step - loss: 0.0555 - accuracy: 0.9610\n",
      "Epoch 75/100\n",
      "5/5 [==============================] - 3s 516ms/step - loss: 0.0567 - accuracy: 0.9610\n",
      "Epoch 76/100\n",
      "5/5 [==============================] - 3s 507ms/step - loss: 0.0525 - accuracy: 0.9610\n",
      "Epoch 77/100\n",
      "5/5 [==============================] - 3s 483ms/step - loss: 0.0605 - accuracy: 0.9675\n",
      "Epoch 78/100\n",
      "5/5 [==============================] - 3s 543ms/step - loss: 0.0731 - accuracy: 0.9675\n",
      "Epoch 79/100\n",
      "5/5 [==============================] - 3s 477ms/step - loss: 0.0431 - accuracy: 0.9805\n",
      "Epoch 80/100\n",
      "5/5 [==============================] - 3s 535ms/step - loss: 0.0714 - accuracy: 0.9675\n",
      "Epoch 81/100\n",
      "5/5 [==============================] - 3s 559ms/step - loss: 0.0495 - accuracy: 0.9740\n",
      "Epoch 82/100\n",
      "5/5 [==============================] - 3s 549ms/step - loss: 0.0513 - accuracy: 0.9805\n",
      "Epoch 83/100\n",
      "5/5 [==============================] - 3s 465ms/step - loss: 0.0731 - accuracy: 0.9740\n",
      "Epoch 84/100\n",
      "5/5 [==============================] - 3s 529ms/step - loss: 0.0695 - accuracy: 0.9740\n",
      "Epoch 85/100\n",
      "5/5 [==============================] - 3s 583ms/step - loss: 0.0989 - accuracy: 0.9805\n",
      "Epoch 86/100\n",
      "5/5 [==============================] - 3s 567ms/step - loss: 0.1107 - accuracy: 0.9675\n",
      "Epoch 87/100\n",
      "5/5 [==============================] - 3s 579ms/step - loss: 0.0739 - accuracy: 0.9740\n",
      "Epoch 88/100\n",
      "5/5 [==============================] - 3s 603ms/step - loss: 0.0683 - accuracy: 0.9610\n",
      "Epoch 89/100\n",
      "5/5 [==============================] - 3s 551ms/step - loss: 0.0660 - accuracy: 0.9740\n",
      "Epoch 90/100\n",
      "5/5 [==============================] - 3s 568ms/step - loss: 0.0564 - accuracy: 0.9610\n",
      "Epoch 91/100\n",
      "5/5 [==============================] - 3s 551ms/step - loss: 0.0562 - accuracy: 0.9675\n",
      "Epoch 92/100\n",
      "5/5 [==============================] - 3s 538ms/step - loss: 0.0586 - accuracy: 0.9610\n",
      "Epoch 93/100\n",
      "5/5 [==============================] - 3s 598ms/step - loss: 0.0431 - accuracy: 0.9740\n",
      "Epoch 94/100\n",
      "5/5 [==============================] - 3s 471ms/step - loss: 0.0405 - accuracy: 0.9610\n",
      "Epoch 95/100\n",
      "5/5 [==============================] - 3s 552ms/step - loss: 0.0519 - accuracy: 0.9740\n",
      "Epoch 96/100\n",
      "5/5 [==============================] - 3s 528ms/step - loss: 0.0514 - accuracy: 0.9740\n",
      "Epoch 97/100\n",
      "5/5 [==============================] - 3s 509ms/step - loss: 0.0565 - accuracy: 0.9675\n",
      "Epoch 98/100\n",
      "5/5 [==============================] - 3s 550ms/step - loss: 0.0601 - accuracy: 0.9740\n",
      "Epoch 99/100\n",
      "5/5 [==============================] - 3s 516ms/step - loss: 0.0723 - accuracy: 0.9610\n",
      "Epoch 100/100\n",
      "5/5 [==============================] - 3s 588ms/step - loss: 0.0570 - accuracy: 0.9740\n"
     ]
    }
   ],
   "source": [
    "history = model.fit(train_generator, epochs=100)"
   ]
  },
  {
   "cell_type": "code",
   "execution_count": 26,
   "metadata": {},
   "outputs": [
    {
     "data": {
      "text/plain": [
       "[<matplotlib.lines.Line2D at 0x1ed1100f610>]"
      ]
     },
     "execution_count": 26,
     "metadata": {},
     "output_type": "execute_result"
    },
    {
     "data": {
      "image/png": "[encoded data removed]",
      "text/plain": [
       "<Figure size 640x480 with 1 Axes>"
      ]
     },
     "metadata": {},
     "output_type": "display_data"
    }
   ],
   "source": [
    "plt.plot(history.history['accuracy'])"
   ]
  },
  {
   "cell_type": "code",
   "execution_count": 28,
   "metadata": {},
   "outputs": [
    {
     "name": "stdout",
     "output_type": "stream",
     "text": [
      "5/5 [==============================] - 3s 416ms/step - loss: 0.0425 - accuracy: 0.9740\n"
     ]
    },
    {
     "data": {
      "text/plain": [
       "[0.04251250997185707, 0.9740259647369385]"
      ]
     },
     "execution_count": 28,
     "metadata": {},
     "output_type": "execute_result"
    }
   ],
   "source": [
    "model.evaluate(train_generator)     "
   ]
  },
  {
   "cell_type": "code",
   "execution_count": 27,
   "metadata": {},
   "outputs": [],
   "source": [
    "model.save('model.h5')"
   ]
  }
 ],
 "metadata": {
  "kernelspec": {
   "display_name": "base",
   "language": "python",
   "name": "python3"
  },
  "language_info": {
   "codemirror_mode": {
    "name": "ipython",
    "version": 3
   },
   "file_extension": ".py",
   "mimetype": "text/x-python",
   "name": "python",
   "nbconvert_exporter": "python",
   "pygments_lexer": "ipython3",
   "version": "3.9.12 (main, Apr  4 2022, 05:22:27) [MSC v.1916 64 bit (AMD64)]"
  },
  "orig_nbformat": 4,
  "vscode": {
   "interpreter": {
    "hash": "19d1d53a962d236aa061289c2ac16dc8e6d9648c89fe79f459ae9a3493bc67b4"
   }
  }
 },
 "nbformat": 4,
 "nbformat_minor": 2
}
